{
 "cells": [
  {
   "cell_type": "code",
   "execution_count": 1,
   "id": "ca1a1272-3c18-4c4e-9621-aa6f46a8d117",
   "metadata": {},
   "outputs": [],
   "source": [
    "from ase.build import molecule\n",
    "from ase.visualize import view\n",
    "from ase.calculators.emt import EMT\n",
    "import numpy as np"
   ]
  },
  {
   "cell_type": "code",
   "execution_count": 2,
   "id": "9a700072-9852-42a8-9eb3-1d5f70282db5",
   "metadata": {},
   "outputs": [],
   "source": [
    "water =  molecule('H2O')\n"
   ]
  },
  {
   "cell_type": "code",
   "execution_count": 3,
   "id": "54c14b49-cf06-4036-beae-a0c3decf9cce",
   "metadata": {},
   "outputs": [
    {
     "data": {
      "text/plain": [
       "array([[10.,  0.,  0.],\n",
       "       [ 0., 10.,  0.],\n",
       "       [ 0.,  0., 10.]])"
      ]
     },
     "execution_count": 3,
     "metadata": {},
     "output_type": "execute_result"
    }
   ],
   "source": [
    "A= np.eye(3)\n",
    "10*A"
   ]
  },
  {
   "cell_type": "code",
   "execution_count": 4,
   "id": "1890bea2-71ff-4014-90d3-e96cc0081e5e",
   "metadata": {},
   "outputs": [],
   "source": [
    "water.set_cell(10*A)\n",
    "water.center()"
   ]
  },
  {
   "cell_type": "code",
   "execution_count": 93,
   "id": "b77d95e0-dcd6-41ee-8bc0-50fb82158fea",
   "metadata": {},
   "outputs": [
    {
     "data": {
      "text/plain": [
       "<Popen: returncode: None args: ['/opt/homebrew/Caskroom/mambaforge/base/bin/...>"
      ]
     },
     "execution_count": 93,
     "metadata": {},
     "output_type": "execute_result"
    }
   ],
   "source": [
    "view(water)"
   ]
  },
  {
   "cell_type": "code",
   "execution_count": 94,
   "id": "c8684745-56d2-43d9-9838-a659d4c51a47",
   "metadata": {
    "jupyter": {
     "source_hidden": true
    },
    "scrolled": true
   },
   "outputs": [
    {
     "name": "stdout",
     "output_type": "stream",
     "text": [
      "[False False False]\n",
      "[ True  True  True]\n"
     ]
    }
   ],
   "source": [
    "print(water.get_pbc())\n",
    "water.set_pbc([True,True,True])\n",
    "print(water.get_pbc())\n",
    "water.write('ase.traj')"
   ]
  },
  {
   "cell_type": "code",
   "execution_count": 95,
   "id": "830c36cc-e69b-4f9c-87ff-e1fc0107bd06",
   "metadata": {},
   "outputs": [],
   "source": [
    "from ase.io.lammpsdata import write_lammps_data"
   ]
  },
  {
   "cell_type": "code",
   "execution_count": 96,
   "id": "a4b16588-42e3-4087-a45c-1af3a480135f",
   "metadata": {},
   "outputs": [],
   "source": [
    "write_lammps_data('lammps.data',water)"
   ]
  },
  {
   "cell_type": "code",
   "execution_count": 97,
   "id": "4670addc-acec-497b-803f-da4f436bbefc",
   "metadata": {},
   "outputs": [
    {
     "data": {
      "text/plain": [
       "['__add__',\n",
       " '__ase_optimizable__',\n",
       " '__class__',\n",
       " '__delattr__',\n",
       " '__delitem__',\n",
       " '__dict__',\n",
       " '__dir__',\n",
       " '__doc__',\n",
       " '__eq__',\n",
       " '__format__',\n",
       " '__ge__',\n",
       " '__getattribute__',\n",
       " '__getitem__',\n",
       " '__getstate__',\n",
       " '__gt__',\n",
       " '__hash__',\n",
       " '__iadd__',\n",
       " '__imul__',\n",
       " '__init__',\n",
       " '__init_subclass__',\n",
       " '__iter__',\n",
       " '__le__',\n",
       " '__len__',\n",
       " '__lt__',\n",
       " '__module__',\n",
       " '__mul__',\n",
       " '__ne__',\n",
       " '__new__',\n",
       " '__reduce__',\n",
       " '__reduce_ex__',\n",
       " '__repr__',\n",
       " '__setattr__',\n",
       " '__sizeof__',\n",
       " '__str__',\n",
       " '__subclasshook__',\n",
       " '__weakref__',\n",
       " '_ase_handles_dynamic_stress',\n",
       " '_calc',\n",
       " '_celldisp',\n",
       " '_cellobj',\n",
       " '_centering_as_array',\n",
       " '_constraints',\n",
       " '_del_constraints',\n",
       " '_get_atomic_numbers',\n",
       " '_get_constraints',\n",
       " '_get_positions',\n",
       " '_masked_rotate',\n",
       " '_pbc',\n",
       " '_set_positions',\n",
       " 'append',\n",
       " 'arrays',\n",
       " 'ase_objtype',\n",
       " 'calc',\n",
       " 'cell',\n",
       " 'center',\n",
       " 'constraints',\n",
       " 'copy',\n",
       " 'edit',\n",
       " 'euler_rotate',\n",
       " 'extend',\n",
       " 'fromdict',\n",
       " 'get_all_distances',\n",
       " 'get_angle',\n",
       " 'get_angles',\n",
       " 'get_angular_momentum',\n",
       " 'get_array',\n",
       " 'get_atomic_numbers',\n",
       " 'get_calculator',\n",
       " 'get_cell',\n",
       " 'get_cell_lengths_and_angles',\n",
       " 'get_celldisp',\n",
       " 'get_center_of_mass',\n",
       " 'get_charges',\n",
       " 'get_chemical_formula',\n",
       " 'get_chemical_symbols',\n",
       " 'get_dihedral',\n",
       " 'get_dihedrals',\n",
       " 'get_dipole_moment',\n",
       " 'get_distance',\n",
       " 'get_distances',\n",
       " 'get_forces',\n",
       " 'get_global_number_of_atoms',\n",
       " 'get_initial_charges',\n",
       " 'get_initial_magnetic_moments',\n",
       " 'get_kinetic_energy',\n",
       " 'get_magnetic_moment',\n",
       " 'get_magnetic_moments',\n",
       " 'get_masses',\n",
       " 'get_momenta',\n",
       " 'get_moments_of_inertia',\n",
       " 'get_number_of_atoms',\n",
       " 'get_pbc',\n",
       " 'get_positions',\n",
       " 'get_potential_energies',\n",
       " 'get_potential_energy',\n",
       " 'get_properties',\n",
       " 'get_reciprocal_cell',\n",
       " 'get_scaled_positions',\n",
       " 'get_stress',\n",
       " 'get_stresses',\n",
       " 'get_tags',\n",
       " 'get_temperature',\n",
       " 'get_total_energy',\n",
       " 'get_velocities',\n",
       " 'get_volume',\n",
       " 'has',\n",
       " 'info',\n",
       " 'iterimages',\n",
       " 'new_array',\n",
       " 'number_of_lattice_vectors',\n",
       " 'numbers',\n",
       " 'pbc',\n",
       " 'pop',\n",
       " 'positions',\n",
       " 'rattle',\n",
       " 'repeat',\n",
       " 'rotate',\n",
       " 'rotate_dihedral',\n",
       " 'set_angle',\n",
       " 'set_array',\n",
       " 'set_atomic_numbers',\n",
       " 'set_calculator',\n",
       " 'set_cell',\n",
       " 'set_celldisp',\n",
       " 'set_center_of_mass',\n",
       " 'set_chemical_symbols',\n",
       " 'set_constraint',\n",
       " 'set_dihedral',\n",
       " 'set_distance',\n",
       " 'set_initial_charges',\n",
       " 'set_initial_magnetic_moments',\n",
       " 'set_masses',\n",
       " 'set_momenta',\n",
       " 'set_pbc',\n",
       " 'set_positions',\n",
       " 'set_scaled_positions',\n",
       " 'set_tags',\n",
       " 'set_velocities',\n",
       " 'symbols',\n",
       " 'todict',\n",
       " 'translate',\n",
       " 'wrap',\n",
       " 'write']"
      ]
     },
     "execution_count": 97,
     "metadata": {},
     "output_type": "execute_result"
    }
   ],
   "source": [
    "dir(water)"
   ]
  },
  {
   "cell_type": "code",
   "execution_count": 98,
   "id": "d5967a2e-2747-4241-b361-e2451c56ad1c",
   "metadata": {},
   "outputs": [
    {
     "data": {
      "text/plain": [
       "array([[5.       , 5.       , 5.2981545],\n",
       "       [5.       , 5.763239 , 4.7018455],\n",
       "       [5.       , 4.236761 , 4.7018455]])"
      ]
     },
     "execution_count": 98,
     "metadata": {},
     "output_type": "execute_result"
    }
   ],
   "source": [
    "water.get_positions()"
   ]
  },
  {
   "cell_type": "code",
   "execution_count": 5,
   "id": "d6a2e38d-2212-4ad3-ab28-49bac905b70d",
   "metadata": {},
   "outputs": [
    {
     "data": {
      "text/plain": [
       "array([[5.02483571, 4.99308678, 5.33053893],\n",
       "       [5.07615149, 5.75153133, 4.69013865],\n",
       "       [5.07896064, 4.27513274, 4.67837178]])"
      ]
     },
     "execution_count": 5,
     "metadata": {},
     "output_type": "execute_result"
    }
   ],
   "source": [
    "water.rattle(0.05)\n",
    "water.get_positions()"
   ]
  },
  {
   "cell_type": "code",
   "execution_count": 100,
   "id": "69cabc43-488e-4e3e-8736-8745989afff4",
   "metadata": {},
   "outputs": [
    {
     "data": {
      "text/plain": [
       "<Popen: returncode: None args: ['/opt/homebrew/Caskroom/mambaforge/base/bin/...>"
      ]
     },
     "execution_count": 100,
     "metadata": {},
     "output_type": "execute_result"
    }
   ],
   "source": [
    "view(water)"
   ]
  },
  {
   "cell_type": "code",
   "execution_count": 6,
   "id": "cfcf5a99-304a-4428-a2d9-9433fffefcaa",
   "metadata": {},
   "outputs": [],
   "source": [
    "water.calc = EMT()"
   ]
  },
  {
   "cell_type": "code",
   "execution_count": 7,
   "id": "9f0c78fe-0332-4a29-b170-8cd2abff2139",
   "metadata": {},
   "outputs": [
    {
     "data": {
      "text/plain": [
       "np.float64(2.4712233678999103)"
      ]
     },
     "execution_count": 7,
     "metadata": {},
     "output_type": "execute_result"
    }
   ],
   "source": [
    "water.get_potential_energy()"
   ]
  },
  {
   "cell_type": "code",
   "execution_count": 8,
   "id": "e4249694-7cbd-4a45-8ca4-bd2012264c20",
   "metadata": {},
   "outputs": [],
   "source": [
    "from ase.optimize import BFGS\n",
    "from ase import units\n",
    "from ase.md.langevin import Langevin\n",
    "from ase.io import Trajectory,read\n",
    "from ase.filters import ExpCellFilter\n",
    "from ase.md.velocitydistribution import MaxwellBoltzmannDistribution"
   ]
  },
  {
   "cell_type": "code",
   "execution_count": 9,
   "id": "53d236f4-2d58-4eb0-b5ec-d7810463bc7c",
   "metadata": {},
   "outputs": [],
   "source": [
    "dyn=BFGS(water)"
   ]
  },
  {
   "cell_type": "code",
   "execution_count": 10,
   "id": "b22f5f69-8d0c-48cd-b37a-972695ab41e8",
   "metadata": {},
   "outputs": [
    {
     "name": "stdout",
     "output_type": "stream",
     "text": [
      "      Step     Time          Energy          fmax\n",
      "BFGS:    0 13:10:30        2.471223        7.216206\n",
      "BFGS:    1 13:10:30        1.915657        1.437685\n",
      "BFGS:    2 13:10:30        1.883617        0.417165\n",
      "BFGS:    3 13:10:30        1.881035        0.059611\n",
      "BFGS:    4 13:10:30        1.880980        0.034385\n",
      "BFGS:    5 13:10:30        1.880908        0.042270\n",
      "BFGS:    6 13:10:30        1.880770        0.075842\n",
      "BFGS:    7 13:10:30        1.880504        0.113649\n",
      "BFGS:    8 13:10:30        1.880050        0.140457\n",
      "BFGS:    9 13:10:30        1.879465        0.127609\n",
      "BFGS:   10 13:10:30        1.879008        0.064998\n",
      "BFGS:   11 13:10:30        1.878894        0.012562\n",
      "BFGS:   12 13:10:30        1.878886        0.005174\n"
     ]
    },
    {
     "data": {
      "text/plain": [
       "np.True_"
      ]
     },
     "execution_count": 10,
     "metadata": {},
     "output_type": "execute_result"
    }
   ],
   "source": [
    "dyn.run(fmax=0.01)"
   ]
  },
  {
   "cell_type": "code",
   "execution_count": 11,
   "id": "ad781885-dc3b-41f2-84cd-d48acf359339",
   "metadata": {},
   "outputs": [
    {
     "data": {
      "text/plain": [
       "<Popen: returncode: None args: ['/opt/homebrew/Caskroom/mambaforge/base/bin/...>"
      ]
     },
     "execution_count": 11,
     "metadata": {},
     "output_type": "execute_result"
    },
    {
     "name": "stderr",
     "output_type": "stream",
     "text": [
      "2024-11-01 13:10:36.376 python[54576:292059] +[IMKClient subclass]: chose IMKClient_Legacy\n",
      "2024-11-01 13:10:36.376 python[54576:292059] +[IMKInputSession subclass]: chose IMKInputSession_Legacy\n"
     ]
    }
   ],
   "source": [
    "view(water)"
   ]
  },
  {
   "cell_type": "code",
   "execution_count": 12,
   "id": "2936cbf3-be51-497a-b0c3-1638bf42154c",
   "metadata": {},
   "outputs": [],
   "source": [
    "from ase.calculators.lj import LennardJones"
   ]
  },
  {
   "cell_type": "code",
   "execution_count": 13,
   "id": "29979109-a99f-4069-bcae-a3576b0e0d75",
   "metadata": {},
   "outputs": [],
   "source": [
    "water = water.copy()"
   ]
  },
  {
   "cell_type": "code",
   "execution_count": 14,
   "id": "8dfcf65a-515f-4bdc-b7e0-0e1827ddf55b",
   "metadata": {},
   "outputs": [],
   "source": [
    "water.calc = LennardJones()"
   ]
  },
  {
   "cell_type": "code",
   "execution_count": 18,
   "id": "6ef3e692-dab2-44ce-80b7-9b43226576cb",
   "metadata": {},
   "outputs": [],
   "source": [
    "water.rattle(0.1)"
   ]
  },
  {
   "cell_type": "code",
   "execution_count": 15,
   "id": "4b9a4920-a48e-40ba-8529-8ecbff3bfe43",
   "metadata": {},
   "outputs": [],
   "source": [
    "dyn = BFGS(water)"
   ]
  },
  {
   "cell_type": "code",
   "execution_count": 16,
   "id": "70b96287-7a0e-4a8f-8774-d046d0d55fad",
   "metadata": {},
   "outputs": [
    {
     "name": "stdout",
     "output_type": "stream",
     "text": [
      "      Step     Time          Energy          fmax\n",
      "BFGS:    0 13:11:44       -2.102582        2.140779\n",
      "BFGS:    1 13:11:44       -2.117776        1.140375\n",
      "BFGS:    2 13:11:44       -2.137454        0.540504\n",
      "BFGS:    3 13:11:44       -2.146783        0.584961\n",
      "BFGS:    4 13:11:44       -2.172068        1.471393\n",
      "BFGS:    5 13:11:44       -2.658274        5.911446\n",
      "BFGS:    6 13:11:44       16.532888      339.249363\n",
      "BFGS:    7 13:11:44       -2.687094        5.295835\n",
      "BFGS:    8 13:11:44       -2.711315        4.772429\n",
      "BFGS:    9 13:11:44       -2.888138        2.586223\n",
      "BFGS:   10 13:11:44       -2.910063        2.414797\n",
      "BFGS:   11 13:11:44       -2.917000        2.419233\n",
      "BFGS:   12 13:11:44       -2.935658        2.088407\n",
      "BFGS:   13 13:11:44       -2.951950        1.899950\n",
      "BFGS:   14 13:11:44       -2.978535        0.732299\n",
      "BFGS:   15 13:11:44       -2.983394        0.164773\n",
      "BFGS:   16 13:11:44       -2.983560        0.015294\n",
      "BFGS:   17 13:11:44       -2.983562        0.000306\n"
     ]
    },
    {
     "data": {
      "text/plain": [
       "np.True_"
      ]
     },
     "execution_count": 16,
     "metadata": {},
     "output_type": "execute_result"
    }
   ],
   "source": [
    "dyn.run(fmax=0.01)"
   ]
  },
  {
   "cell_type": "code",
   "execution_count": 17,
   "id": "0acf1536-5e51-487a-952c-504f03fcf650",
   "metadata": {},
   "outputs": [
    {
     "data": {
      "text/plain": [
       "<Popen: returncode: None args: ['/opt/homebrew/Caskroom/mambaforge/base/bin/...>"
      ]
     },
     "execution_count": 17,
     "metadata": {},
     "output_type": "execute_result"
    },
    {
     "name": "stderr",
     "output_type": "stream",
     "text": [
      "2024-11-01 13:11:50.609 python[54608:293094] +[IMKClient subclass]: chose IMKClient_Legacy\n",
      "2024-11-01 13:11:50.609 python[54608:293094] +[IMKInputSession subclass]: chose IMKInputSession_Legacy\n"
     ]
    }
   ],
   "source": [
    "view(water)"
   ]
  },
  {
   "cell_type": "code",
   "execution_count": 22,
   "id": "9965f97a-f0e2-41e2-89db-a1c944106131",
   "metadata": {},
   "outputs": [],
   "source": [
    "water = water.copy()"
   ]
  },
  {
   "cell_type": "code",
   "execution_count": 23,
   "id": "aa1782fa-a22f-4e11-967c-e3849d4a4d4c",
   "metadata": {},
   "outputs": [],
   "source": [
    "water.set_cell((6.0, 6.0, 6.0))\n"
   ]
  },
  {
   "cell_type": "code",
   "execution_count": 24,
   "id": "a9ce067f-1ae8-4b60-9be2-df1f9bf2a37f",
   "metadata": {},
   "outputs": [
    {
     "data": {
      "text/plain": [
       "Atoms(symbols='OH2', pbc=False, cell=[6.0, 6.0, 6.0])"
      ]
     },
     "execution_count": 24,
     "metadata": {},
     "output_type": "execute_result"
    }
   ],
   "source": [
    "water"
   ]
  },
  {
   "cell_type": "code",
   "execution_count": 25,
   "id": "151f7a5a-dbb8-40be-8629-c029cc489471",
   "metadata": {},
   "outputs": [
    {
     "data": {
      "text/plain": [
       "<Popen: returncode: None args: ['/opt/homebrew/Caskroom/mambaforge/base/bin/...>"
      ]
     },
     "execution_count": 25,
     "metadata": {},
     "output_type": "execute_result"
    }
   ],
   "source": [
    "view(water)"
   ]
  },
  {
   "cell_type": "code",
   "execution_count": 26,
   "id": "5a5344ed-c6fc-4dbb-9670-19951452813f",
   "metadata": {},
   "outputs": [],
   "source": [
    "water.center()"
   ]
  },
  {
   "cell_type": "code",
   "execution_count": 27,
   "id": "5852b883-d974-4230-b1b0-1a7cea032401",
   "metadata": {},
   "outputs": [
    {
     "data": {
      "text/plain": [
       "<Popen: returncode: None args: ['/opt/homebrew/Caskroom/mambaforge/base/bin/...>"
      ]
     },
     "execution_count": 27,
     "metadata": {},
     "output_type": "execute_result"
    }
   ],
   "source": [
    "view(water)"
   ]
  },
  {
   "cell_type": "code",
   "execution_count": 18,
   "id": "415f0c36-9a21-4eab-8f8d-a722048badb5",
   "metadata": {},
   "outputs": [],
   "source": [
    "test=LennardJones()"
   ]
  },
  {
   "cell_type": "code",
   "execution_count": 29,
   "id": "92f1b4ea-e4d5-4c81-8cd6-2e82740c51fe",
   "metadata": {},
   "outputs": [
    {
     "data": {
      "text/plain": [
       "{'epsilon': 1.0, 'sigma': 1.0, 'rc': None, 'ro': None, 'smooth': False}"
      ]
     },
     "execution_count": 29,
     "metadata": {},
     "output_type": "execute_result"
    }
   ],
   "source": [
    "test.default_parameters"
   ]
  }
 ],
 "metadata": {
  "kernelspec": {
   "display_name": "Python 3 (ipykernel)",
   "language": "python",
   "name": "python3"
  },
  "language_info": {
   "codemirror_mode": {
    "name": "ipython",
    "version": 3
   },
   "file_extension": ".py",
   "mimetype": "text/x-python",
   "name": "python",
   "nbconvert_exporter": "python",
   "pygments_lexer": "ipython3",
   "version": "3.12.6"
  }
 },
 "nbformat": 4,
 "nbformat_minor": 5
}
