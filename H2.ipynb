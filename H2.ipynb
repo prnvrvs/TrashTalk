{
 "cells": [
  {
   "cell_type": "code",
   "execution_count": 24,
   "id": "45c6ad2e-071c-4aa2-afae-744f03a5d9cb",
   "metadata": {},
   "outputs": [],
   "source": [
    "from ase.io import read"
   ]
  },
  {
   "cell_type": "code",
   "execution_count": 25,
   "id": "4132a777",
   "metadata": {},
   "outputs": [],
   "source": [
    "from ase import Atoms, Atom"
   ]
  },
  {
   "cell_type": "code",
   "execution_count": 26,
   "id": "dfd8bffe",
   "metadata": {},
   "outputs": [],
   "source": [
    "from ase.visualize import view"
   ]
  },
  {
   "cell_type": "code",
   "execution_count": 27,
   "id": "c972dd22-ca3f-4095-9e48-ac59cd64f125",
   "metadata": {},
   "outputs": [],
   "source": [
    "# define an Atoms object\n",
    "H2 = Atoms([Atom('H', [5., 5., 5.]),\n",
    "               Atom('H', [5.74, 5., 5.])],cell=[10,10,10],pbc=True)"
   ]
  },
  {
   "cell_type": "code",
   "execution_count": 28,
   "id": "dc38587d-6cb6-45d7-9049-f43ce6e0fb81",
   "metadata": {},
   "outputs": [
    {
     "data": {
      "text/plain": [
       "Atoms(symbols='H2', pbc=True, cell=[10.0, 10.0, 10.0])"
      ]
     },
     "execution_count": 28,
     "metadata": {},
     "output_type": "execute_result"
    }
   ],
   "source": [
    "H2"
   ]
  },
  {
   "cell_type": "code",
   "execution_count": 29,
   "id": "a137ce12-cda5-4ebd-a96a-dad51e774347",
   "metadata": {},
   "outputs": [],
   "source": [
    "import numpy as np"
   ]
  },
  {
   "cell_type": "code",
   "execution_count": 30,
   "id": "f6735bca-da74-49d5-b2de-ca6f48e0331a",
   "metadata": {},
   "outputs": [],
   "source": [
    "H2= Atoms(H2,positions=([5,5,5],[5.74,5,5]),cell=10*np.eye(3),pbc=True)"
   ]
  },
  {
   "cell_type": "code",
   "execution_count": 31,
   "id": "d9498fca-9c4a-4a9a-b162-ffd6f7620220",
   "metadata": {},
   "outputs": [
    {
     "data": {
      "text/plain": [
       "Atoms(symbols='H2', pbc=True, cell=[10.0, 10.0, 10.0])"
      ]
     },
     "execution_count": 31,
     "metadata": {},
     "output_type": "execute_result"
    }
   ],
   "source": [
    "H2"
   ]
  },
  {
   "cell_type": "code",
   "execution_count": 32,
   "id": "bbb4ef26-17d0-409a-8c9e-886756a94b3f",
   "metadata": {},
   "outputs": [
    {
     "data": {
      "text/plain": [
       "array([[1., 0., 0.],\n",
       "       [0., 1., 0.],\n",
       "       [0., 0., 1.]])"
      ]
     },
     "execution_count": 32,
     "metadata": {},
     "output_type": "execute_result"
    }
   ],
   "source": [
    "np.eye(3)"
   ]
  },
  {
   "cell_type": "code",
   "execution_count": 33,
   "id": "6ff37821-5bcf-4730-8c61-5c0137855996",
   "metadata": {},
   "outputs": [
    {
     "data": {
      "text/plain": [
       "Cell([10.0, 10.0, 10.0])"
      ]
     },
     "execution_count": 33,
     "metadata": {},
     "output_type": "execute_result"
    }
   ],
   "source": [
    "H2.cell"
   ]
  },
  {
   "cell_type": "code",
   "execution_count": 34,
   "id": "4e449b3f-c424-4353-bd15-2811ec5ecf4a",
   "metadata": {},
   "outputs": [
    {
     "data": {
      "text/plain": [
       "array([[5.  , 5.  , 5.  ],\n",
       "       [5.74, 5.  , 5.  ]])"
      ]
     },
     "execution_count": 34,
     "metadata": {},
     "output_type": "execute_result"
    }
   ],
   "source": [
    "H2.get_positions()"
   ]
  },
  {
   "cell_type": "code",
   "execution_count": 35,
   "id": "7c969c17-5c5e-4ece-a2c9-a697a04f2f05",
   "metadata": {},
   "outputs": [
    {
     "data": {
      "text/plain": [
       "Cell([10.0, 10.0, 10.0])"
      ]
     },
     "execution_count": 35,
     "metadata": {},
     "output_type": "execute_result"
    }
   ],
   "source": [
    "H2.get_cell()"
   ]
  },
  {
   "cell_type": "code",
   "execution_count": 36,
   "id": "1e69c469-c28e-4de3-af95-81822f015471",
   "metadata": {},
   "outputs": [
    {
     "data": {
      "text/plain": [
       "array([[0.  , 0.74],\n",
       "       [0.74, 0.  ]])"
      ]
     },
     "execution_count": 36,
     "metadata": {},
     "output_type": "execute_result"
    }
   ],
   "source": [
    "H2.get_all_distances()"
   ]
  },
  {
   "cell_type": "code",
   "execution_count": 37,
   "id": "5b640134-5040-4162-9027-82924b4a5327",
   "metadata": {},
   "outputs": [
    {
     "data": {
      "text/plain": [
       "array([[0.5  , 0.5  , 0.5  ],\n",
       "       [0.574, 0.5  , 0.5  ]])"
      ]
     },
     "execution_count": 37,
     "metadata": {},
     "output_type": "execute_result"
    }
   ],
   "source": [
    "H2.get_scaled_positions()"
   ]
  },
  {
   "cell_type": "code",
   "execution_count": 38,
   "id": "8c64058d-6c9c-4221-bcde-2c9739fd1f23",
   "metadata": {},
   "outputs": [
    {
     "data": {
      "text/plain": [
       "array([5.37, 5.  , 5.  ])"
      ]
     },
     "execution_count": 38,
     "metadata": {},
     "output_type": "execute_result"
    }
   ],
   "source": [
    "H2.get_center_of_mass()"
   ]
  },
  {
   "cell_type": "code",
   "execution_count": 39,
   "id": "9e6c1146-dba1-42b1-a514-896865e06c5f",
   "metadata": {},
   "outputs": [
    {
     "data": {
      "text/plain": [
       "2"
      ]
     },
     "execution_count": 39,
     "metadata": {},
     "output_type": "execute_result"
    }
   ],
   "source": [
    "H2.get_global_number_of_atoms()"
   ]
  },
  {
   "cell_type": "code",
   "execution_count": 40,
   "id": "6ea12e8c-c05f-4009-98b7-0309f4c43324",
   "metadata": {},
   "outputs": [
    {
     "data": {
      "text/plain": [
       "2"
      ]
     },
     "execution_count": 40,
     "metadata": {},
     "output_type": "execute_result"
    }
   ],
   "source": [
    "len(H2)"
   ]
  },
  {
   "cell_type": "code",
   "execution_count": 41,
   "id": "91f4a36b-eb63-4d76-8e78-aa2937d7f8a7",
   "metadata": {},
   "outputs": [
    {
     "data": {
      "text/plain": [
       "Cell([0.1, 0.1, 0.1])"
      ]
     },
     "execution_count": 41,
     "metadata": {},
     "output_type": "execute_result"
    }
   ],
   "source": [
    "H2.cell.reciprocal()"
   ]
  },
  {
   "cell_type": "code",
   "execution_count": 42,
   "id": "4aea8dd7-3964-4d06-814a-787bf7a91df4",
   "metadata": {},
   "outputs": [],
   "source": [
    "from ase.calculators.emt import EMT\n",
    "H2.calc = EMT()"
   ]
  },
  {
   "cell_type": "code",
   "execution_count": 43,
   "id": "d3a7a639-aa0e-4fff-bbba-a593f7457062",
   "metadata": {},
   "outputs": [],
   "source": [
    "from ase.optimize import BFGS\n",
    "from ase import units\n",
    "from ase.md.langevin import Langevin\n",
    "from ase.io import Trajectory,read\n",
    "from ase.filters import ExpCellFilter\n",
    "from ase.md.velocitydistribution import MaxwellBoltzmannDistribution"
   ]
  },
  {
   "cell_type": "code",
   "execution_count": 46,
   "id": "3f14be19-8403-4f06-972f-499bc456aceb",
   "metadata": {},
   "outputs": [],
   "source": [
    "MaxwellBoltzmannDistribution(H2, temperature_K=300)\n"
   ]
  },
  {
   "cell_type": "code",
   "execution_count": 48,
   "id": "aeea90b8-668b-4fd4-b88a-24031b7a7e88",
   "metadata": {},
   "outputs": [],
   "source": [
    "dyn = Langevin(H2,timestep=1.0 * units.fs,temperature_K=300,friction=0.01 / units.fs)\n"
   ]
  },
  {
   "cell_type": "code",
   "execution_count": 52,
   "id": "bc7664a9-571e-4846-95de-6da548386fae",
   "metadata": {},
   "outputs": [],
   "source": [
    "traj = Trajectory('md.traj', 'a', H2) \n"
   ]
  },
  {
   "cell_type": "code",
   "execution_count": 53,
   "id": "8115668e-b5ff-4d35-94bc-db9636b36382",
   "metadata": {},
   "outputs": [],
   "source": [
    "dyn.attach(traj.write, interval=10)\n"
   ]
  },
  {
   "cell_type": "code",
   "execution_count": 58,
   "id": "702c9bb0-57d5-49dc-9a0d-d8d29f066d22",
   "metadata": {},
   "outputs": [
    {
     "data": {
      "text/plain": [
       "True"
      ]
     },
     "execution_count": 58,
     "metadata": {},
     "output_type": "execute_result"
    }
   ],
   "source": [
    "dyn.run(1000)"
   ]
  },
  {
   "cell_type": "code",
   "execution_count": null,
   "id": "32cb1da1-ae97-48cb-a53d-8a9c2b8916c2",
   "metadata": {},
   "outputs": [],
   "source": []
  }
 ],
 "metadata": {
  "kernelspec": {
   "display_name": "Python 3 (ipykernel)",
   "language": "python",
   "name": "python3"
  },
  "language_info": {
   "codemirror_mode": {
    "name": "ipython",
    "version": 3
   },
   "file_extension": ".py",
   "mimetype": "text/x-python",
   "name": "python",
   "nbconvert_exporter": "python",
   "pygments_lexer": "ipython3",
   "version": "3.12.6"
  }
 },
 "nbformat": 4,
 "nbformat_minor": 5
}
